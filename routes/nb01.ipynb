{
 "cells": [
  {
   "cell_type": "code",
   "execution_count": 1,
   "metadata": {},
   "outputs": [],
   "source": [
    "import sys; sys.path.append('..')"
   ]
  },
  {
   "cell_type": "code",
   "execution_count": 2,
   "metadata": {},
   "outputs": [],
   "source": [
    "from data_utils import CompanyDataHandler, MQHandler, CPHandler"
   ]
  },
  {
   "cell_type": "code",
   "execution_count": 3,
   "metadata": {},
   "outputs": [
    {
     "name": "stdout",
     "output_type": "stream",
     "text": [
      "5\n"
     ]
    },
    {
     "data": {
      "text/plain": [
       "Index(['company name', 'geography', 'geography code', 'sector',\n",
       "       'ca100 company?', 'large/medium classification', 'isins', 'sedol',\n",
       "       'publication date', 'assessment date', 'level',\n",
       "       'performance compared to previous year',\n",
       "       'q1l0|does the company acknowledge climate change as a significant issue for the business?',\n",
       "       'q2l1|does the company explicitly recognise climate change as a relevant risk and/or opportunity to the business?',\n",
       "       'q3l1|does the company have a policy (or equivalent) commitment to action on climate change?',\n",
       "       'q4l2|has the company set greenhouse gas emission reduction targets?',\n",
       "       'q5l2|has the company published information on its scope 1 and 2 greenhouse gas emissions?',\n",
       "       'q6l3|has the company nominated a board member or board committee with explicit responsibility for oversight of the climate change policy?',\n",
       "       'q7l3|has the company set quantitative targets for reducing its greenhouse gas emissions?',\n",
       "       'q8l3|does the company report on scope 3 emissions?',\n",
       "       'q9l3|has the company had its operational (scope 1 and/or 2) greenhouse gas emissions data verified?',\n",
       "       'q10l3|does the company support domestic and international efforts to mitigate climate change?',\n",
       "       'q11l4|has the company set long-term quantitative targets for reducing its greenhouse gas emissions?',\n",
       "       'q12l4|has the company incorporated environmental, social and governance issues into executive remuneration?',\n",
       "       'q13l4|has the company reduced its operational (scope 1 and 2) greenhouse gas emissions over the past 3 years?',\n",
       "       'q14l4|does the company provide information on the business costs associated with climate change?',\n",
       "       'methodology_cycle',\n",
       "       'q11l3|does the company have a process to manage climate-related risks?',\n",
       "       'q12l3|does the company disclose scope 3 use of product emissions?',\n",
       "       'q13l4|has the company set long-term quantitative targets for reducing its greenhouse gas emissions?',\n",
       "       'q14l4|has the company incorporated environmental, social and governance issues into executive remuneration?',\n",
       "       'q15l4|does the company incorporate climate change risks and opportunities in their strategy?',\n",
       "       'q16l4|does the company undertake climate scenario planning?',\n",
       "       'q17l4|does the company have an internal price of carbon?',\n",
       "       'q2l1|does the company recognise climate change as a relevant risk and/or opportunity for the business?',\n",
       "       'q11l3|does the company disclose its membership and involvement in trade associations engaged in climate issues?',\n",
       "       'q12l3|does the company have a process to manage climate-related risks?',\n",
       "       'q13l3|does the company disclose scope 3 use of product emissions?',\n",
       "       'q14l4|has the company set long-term quantitative targets for reducing its greenhouse gas emissions?',\n",
       "       'q15l4|does the company's remuneration for senior executives incorporate climate change performance?',\n",
       "       'q16l4|does the company incorporate climate change risks and opportunities in their strategy?',\n",
       "       'q17l4|does the company undertake climate scenario planning?',\n",
       "       'q18l4|does the company disclose an internal price of carbon?',\n",
       "       'q19l4|does the company ensure consistency between its climate change policy and the positions taken by trade associations of which it is a member?',\n",
       "       'q13l4|does the company disclose its membership and involvement in organisations or coalitions dedicated specifically to climate issues?',\n",
       "       'q12l3|does the company disclose materially important scope 3 emissions?',\n",
       "       'q14l4|does the company's remuneration for senior executives incorporate climate change performance?',\n",
       "       'q17l4|does the company disclose an internal price of carbon?',\n",
       "       'q18l4|does the company disclose the actions necessary to meet its emissions-reduction targets?',\n",
       "       'q19l5|does the company quantify the key elements of its emissions reduction strategy and the proportional impact of each action in achieving its targets?',\n",
       "       'q20l5|does the company's transition plan clarify the role that will be played by offsets and/or negative emissions technologies?',\n",
       "       'q21l5|does the company commit to phasing out capital expenditure on carbon intensive assets or products?',\n",
       "       'q22l5|does the company align future capital expenditures with its long-term decarbonisation goals and disclose how the alignment is determined?',\n",
       "       'q23l5|does the company ensure consistency between its climate change policy and the positions taken by trade associations of which it is a member?'],\n",
       "      dtype='object')"
      ]
     },
     "execution_count": 3,
     "metadata": {},
     "output_type": "execute_result"
    }
   ],
   "source": [
    "MQHandler().get_df().columns"
   ]
  }
 ],
 "metadata": {
  "kernelspec": {
   "display_name": "venv",
   "language": "python",
   "name": "python3"
  },
  "language_info": {
   "codemirror_mode": {
    "name": "ipython",
    "version": 3
   },
   "file_extension": ".py",
   "mimetype": "text/x-python",
   "name": "python",
   "nbconvert_exporter": "python",
   "pygments_lexer": "ipython3",
   "version": "3.9.13"
  }
 },
 "nbformat": 4,
 "nbformat_minor": 2
}
