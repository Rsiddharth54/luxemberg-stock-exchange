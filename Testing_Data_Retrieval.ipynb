{
 "cells": [
  {
   "cell_type": "code",
   "execution_count": 1,
   "metadata": {},
   "outputs": [],
   "source": [
    "import pandas as pd"
   ]
  },
  {
   "cell_type": "code",
   "execution_count": 2,
   "metadata": {},
   "outputs": [],
   "source": [
    "file_path = './data/TPI ASCOR data - 13012025/ASCOR_assessments_results.xlsx'\n",
    "\n",
    "df = pd.read_excel(file_path)"
   ]
  },
  {
   "cell_type": "code",
   "execution_count": 3,
   "metadata": {},
   "outputs": [],
   "source": [
    "df['Publication date']=pd.to_datetime(df['Publication date'], format='%d/%m/%Y')\n",
    "df['Assessment date']=pd.to_datetime(df['Assessment date'], format='%d/%m/%Y')\n",
    "\n",
    "selected_country = 'United Kingdom'\n",
    "selected_year = 2023\n",
    "\n",
    "mask = (\n",
    "    (df['Country']==selected_country)&\n",
    "    (df['Assessment date'].dt.year==selected_year)\n",
    ")\n",
    "\n",
    "area_columns = [col for col in df.columns if col.startswith('area ')]\n",
    "area_dict = df[area_columns].iloc[0].to_dict()\n",
    "print(area_dict)"
   ]
  },
  {
   "cell_type": "code",
   "execution_count": 6,
   "metadata": {},
   "outputs": [
    {
     "name": "stdout",
     "output_type": "stream",
     "text": [
      "{'area EP.1': 'Partial', 'area EP.2': 'Partial', 'area EP.3': 'Partial', 'area CP.1': 'Yes', 'area CP.2': 'Partial', 'area CP.3': 'No', 'area CP.4': 'Partial', 'area CP.5': 'Partial', 'area CP.6': 'Partial', 'area CF.1': 'Partial', 'area CF.2': 'Exempt', 'area CF.3': 'Yes', 'area CF.4': 'Not applicable'}\n"
     ]
    }
   ],
   "source": [
    "mask = (\n",
    "    (df['Country']==selected_country)&\n",
    "    (df['Assessment date'].dt.year==selected_year)\n",
    ")\n",
    "\n",
    "area_columns = [col for col in df.columns if col.startswith('area ')]\n",
    "area_dict = df[area_columns].iloc[0].to_dict()\n",
    "print(area_dict)"
   ]
  },
  {
   "cell_type": "code",
   "execution_count": 5,
   "metadata": {},
   "outputs": [
    {
     "name": "stdout",
     "output_type": "stream",
     "text": [
      "{'area EP.1': 'Partial', 'area EP.2': 'Partial', 'area EP.3': 'Partial', 'area CP.1': 'Yes', 'area CP.2': 'Partial', 'area CP.3': 'No', 'area CP.4': 'Partial', 'area CP.5': 'Partial', 'area CP.6': 'Partial', 'area CF.1': 'Partial', 'area CF.2': 'Exempt', 'area CF.3': 'Yes', 'area CF.4': 'Not applicable'}\n"
     ]
    }
   ],
   "source": []
  },
  {
   "cell_type": "code",
   "execution_count": null,
   "metadata": {},
   "outputs": [],
   "source": []
  }
 ],
 "metadata": {
  "kernelspec": {
   "display_name": "venv",
   "language": "python",
   "name": "python3"
  },
  "language_info": {
   "codemirror_mode": {
    "name": "ipython",
    "version": 3
   },
   "file_extension": ".py",
   "mimetype": "text/x-python",
   "name": "python",
   "nbconvert_exporter": "python",
   "pygments_lexer": "ipython3",
   "version": "3.12.8"
  }
 },
 "nbformat": 4,
 "nbformat_minor": 2
}
