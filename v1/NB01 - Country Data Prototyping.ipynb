{
 "cells": [
  {
   "cell_type": "markdown",
   "metadata": {},
   "source": [
    "# Read the data"
   ]
  },
  {
   "cell_type": "code",
   "execution_count": null,
   "metadata": {
    "vscode": {
     "languageId": "plaintext"
    }
   },
   "outputs": [],
   "source": [
    "filepath = \"./data/TPI ASCOR data - 13012025/ASCOR_assessments_results.xlsx\" # Specify the correct path to the file\n",
    "df_assessments = pd.read_excel(filepath)\n",
    "\n",
    "# Convert the date columns to datetime type so we can filter by year later\n",
    "df_assessments['Assessment date'] = pd.to_datetime(df_assessments['Assessment date'])\n",
    "df_assessments['Publication date'] = pd.to_datetime(df_assessments['Publication date'])"
   ]
  },
  {
   "cell_type": "markdown",
   "metadata": {},
   "source": [
    "# Define the function"
   ]
  },
  {
   "cell_type": "code",
   "execution_count": null,
   "metadata": {
    "vscode": {
     "languageId": "plaintext"
    }
   },
   "outputs": [],
   "source": [
    "def get_country_data(country: str, assessment_year: int):\n",
    "\n",
    "    client_df = df_assessments[(df_assessments[\"Country\"] == country) & (df_assessments[\"Assessment date\"].dt.year == assessment_year)]\n",
    "    client_df = client_df.fillna(\"\")\n",
    "\n",
    "    dict_result = {\n",
    "        \"EP.1\": client_df['area EP.1'],\n",
    "        \"EP.2\": client_df['area EP.2'],\n",
    "        \"EP.3\": client_df['area EP.3'],\n",
    "        \"CP.1\": client_df['area CP.1'],\n",
    "        \"CP.2\": client_df['area CP.2'],\n",
    "        \"CP.3\": client_df['area CP.3'],\n",
    "        \"CP.4\": client_df['area CP.4'],\n",
    "        \"CP.5\": client_df['area CP.5'],\n",
    "        \"CP.6\": client_df['area CP.6'],\n",
    "        \"CF.1\": client_df['area CF.1'],\n",
    "        \"CF.2\": client_df['area CF.2'],\n",
    "        \"CP.3\": client_df['area CF.3'],\n",
    "        \"CP.4\": client_df['area CF.4'],\n",
    "        \"country\": country,\n",
    "        \"assessment_year\": assessment_year\n",
    "        }\n",
    "   \n",
    "    return dict_result"
   ]
  },
  {
   "cell_type": "markdown",
   "metadata": {},
   "source": [
    "# Test how the function behaves"
   ]
  },
  {
   "cell_type": "code",
   "execution_count": null,
   "metadata": {
    "vscode": {
     "languageId": "plaintext"
    }
   },
   "outputs": [],
   "source": [
    "get_country_data(\"Italy\", 2024)"
   ]
  },
  {
   "cell_type": "code",
   "execution_count": null,
   "metadata": {
    "vscode": {
     "languageId": "plaintext"
    }
   },
   "outputs": [],
   "source": [
    "get_country_data(Italy, 2024)"
   ]
  }
 ],
 "metadata": {
  "language_info": {
   "name": "python"
  }
 },
 "nbformat": 4,
 "nbformat_minor": 2
}
