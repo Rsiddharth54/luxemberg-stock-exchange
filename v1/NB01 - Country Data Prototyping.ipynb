{
 "cells": [
  {
   "cell_type": "markdown",
   "metadata": {},
   "source": [
    "# Read the data"
   ]
  },
  {
   "cell_type": "code",
   "execution_count": 1,
   "metadata": {},
   "outputs": [
    {
     "name": "stderr",
     "output_type": "stream",
     "text": [
      "/Users/jessiefung/anaconda3/lib/python3.11/site-packages/pandas/core/arrays/masked.py:60: UserWarning: Pandas requires version '1.3.6' or newer of 'bottleneck' (version '1.3.5' currently installed).\n",
      "  from pandas.core import (\n"
     ]
    }
   ],
   "source": [
    "import os\n",
    "import pandas as pd\n",
    "\n",
    "from fastapi import FastAPI\n",
    "from typing import List\n",
    "from models import CountryData, Pillar, Area, Indicator, Metric\n",
    "import re"
   ]
  },
  {
   "cell_type": "code",
   "execution_count": 2,
   "metadata": {},
   "outputs": [
    {
     "name": "stderr",
     "output_type": "stream",
     "text": [
      "/var/folders/kv/l9vcg1gs7xb1tfhh37wfc4_w0000gn/T/ipykernel_51287/3951065428.py:5: UserWarning: Parsing dates in %d/%m/%Y format when dayfirst=False (the default) was specified. Pass `dayfirst=True` or specify a format to silence this warning.\n",
      "  df_assessments['Assessment date'] = pd.to_datetime(df_assessments['Assessment date'])\n"
     ]
    }
   ],
   "source": [
    "filepath = \"../data/TPI ASCOR data - 13012025/ASCOR_assessments_results.xlsx\" # Specify the correct path to the file\n",
    "df_assessments = pd.read_excel(filepath)\n",
    "\n",
    "# Convert the date columns to datetime type so we can filter by year later\n",
    "df_assessments['Assessment date'] = pd.to_datetime(df_assessments['Assessment date'])\n",
    "df_assessments['Publication date'] = pd.to_datetime(df_assessments['Publication date'])"
   ]
  },
  {
   "cell_type": "markdown",
   "metadata": {},
   "source": [
    "# Define the function"
   ]
  },
  {
   "cell_type": "code",
   "execution_count": 3,
   "metadata": {},
   "outputs": [
    {
     "data": {
      "text/plain": [
       "EP.1                         Partial\n",
       "EP.1.a                           Yes\n",
       "EP.1.b                            No\n",
       "EP.1.c                            No\n",
       "EP.2                         Partial\n",
       "                      ...           \n",
       "CF.4                                \n",
       "CF.4.i       2.24 MW/US$ billion GDP\n",
       "CF.4.ii     20.56 MW/US$ billion GDP\n",
       "CF.4.iii     0.00 MW/US$ billion GDP\n",
       "CF.4.iv      0.12 MW/US$ billion GDP\n",
       "Name: 55, Length: 74, dtype: object"
      ]
     },
     "execution_count": 3,
     "metadata": {},
     "output_type": "execute_result"
    }
   ],
   "source": [
    "country = 'Italy'\n",
    "assessment_year = 2024\n",
    "\n",
    "data = df_assessments[(df_assessments[\"Country\"] == country) & (df_assessments[\"Assessment date\"].dt.year == assessment_year)]\n",
    "\n",
    "#remember which columns are area, indicator, metric\n",
    "area_cols = [re.sub(\".*?\\s\", \"\", col) for col in data.columns if col.startswith(\"area\")]\n",
    "indicator_cols = [re.sub(\".*?\\s\", \"\", col) for col in data.columns if col.startswith(\"indicator\")]\n",
    "metric_cols =  [re.sub(\".*?\\s\", \"\", col) for col in data.columns if col.startswith(\"metric\")] \n",
    "\n",
    "#remove unecessary columns\n",
    "data = data[[col for col in data.columns if col.startswith((\"area\", \"indicator\", \"metric\"))]]\n",
    "\n",
    "#rename columns so they align with output\n",
    "remap_column_names = {col: re.sub(\".*?\\s\", \"\", col) for col in data.columns}\n",
    "data = data.rename(columns=remap_column_names)\n",
    "\n",
    "\n",
    "#get flat Pandas series of country data\n",
    "data = data.iloc[0]\n",
    "data = data.fillna(\"\")\n",
    "\n",
    "data"
   ]
  },
  {
   "cell_type": "code",
   "execution_count": 4,
   "metadata": {},
   "outputs": [],
   "source": [
    "#get metric\n",
    "metrics = [{'name': metric, 'value': data[f'{metric}']} for metric in metric_cols]\n",
    "\n",
    "#get indicator\n",
    "indicators = [{'name': indicator, 'assessment': data[f\"{indicator}\"],\n",
    "                'metrics': next((met for met in metrics if met[\"name\"].startswith(indicator)), \"\")} for indicator in indicator_cols]   "
   ]
  },
  {
   "cell_type": "code",
   "execution_count": 5,
   "metadata": {},
   "outputs": [],
   "source": [
    "def get_country_data(country: str, assessment_year: int):\n",
    "    data = df_assessments[(df_assessments[\"Country\"] == country) & (df_assessments[\"Assessment date\"].dt.year == assessment_year)]\n",
    "\n",
    "    #remember which columns are area, indicator, metric\n",
    "    area_cols = [re.sub(\".*?\\s\", \"\", col) for col in data.columns if col.startswith(\"area\")]\n",
    "    indicator_cols = [re.sub(\".*?\\s\", \"\", col) for col in data.columns if col.startswith(\"indicator\")]\n",
    "    metric_cols =  [re.sub(\".*?\\s\", \"\", col) for col in data.columns if col.startswith(\"metric\")] \n",
    "\n",
    "    #remove unecessary columns\n",
    "    data = data[[col for col in data.columns if col.startswith((\"area\", \"indicator\", \"metric\"))]]\n",
    "\n",
    "    #rename columns so they align with output\n",
    "    remap_column_names = {col: re.sub(\".*?\\s\", \"\", col) for col in data.columns}\n",
    "    data = data.rename(columns=remap_column_names)\n",
    "\n",
    "    #get flat Pandas series of country data\n",
    "    data = data.iloc[0]\n",
    "    data = data.fillna(\"\")\n",
    "\n",
    "    #get metric\n",
    "    metrics = [{'name': metric, 'value': data[f'{metric}']} for metric in metric_cols]\n",
    "\n",
    "    #get indicator\n",
    "    indicators = [{'name': indicator, 'assessment': data[f\"{indicator}\"],\n",
    "                   'metrics': next((met for met in metrics if met[\"name\"].startswith(indicator)), \"\")} for indicator in indicator_cols]   \n",
    "\n",
    "    #get area\n",
    "    areas = [{'name': area, 'assessment': data[f\"{area}\"],\n",
    "              'indicators': [ind for ind in indicators if ind[\"name\"].startswith(area)]} for area in area_cols]\n",
    "\n",
    "    #get pillar\n",
    "    pillars = [{'name': pillar, 'areas': areas} for pillar in [\"EP\",\"CP\",\"CF\"]]\n",
    "\n",
    "    output_dict = {'pillars': [pillar for pillar in pillars]}\n",
    "\n",
    "    output = CountryData(**output_dict)\n",
    "\n",
    "    return output"
   ]
  },
  {
   "cell_type": "code",
   "execution_count": 6,
   "metadata": {},
   "outputs": [],
   "source": [
    "unique_values = [df_assessments['Country'].unique().tolist()]"
   ]
  },
  {
   "cell_type": "code",
   "execution_count": 7,
   "metadata": {},
   "outputs": [],
   "source": [
    "countries = list((set(sum(unique_values, []))))"
   ]
  },
  {
   "cell_type": "markdown",
   "metadata": {},
   "source": [
    "# Test how the function behaves"
   ]
  },
  {
   "cell_type": "code",
   "execution_count": 8,
   "metadata": {},
   "outputs": [
    {
     "data": {
      "text/plain": [
       "CountryData(pillars=[Pillar(name='EP', areas=[Area(name='EP.1', assessment='Partial', indicators=[Indicator(name='EP.1.a', assessment='Yes', metrics=''), Indicator(name='EP.1.b', assessment='No', metrics=''), Indicator(name='EP.1.c', assessment='No', metrics='')]), Area(name='EP.2', assessment='Partial', indicators=[Indicator(name='EP.2.a', assessment='Yes', metrics=Metric(name='EP.2.a.i', value='-30%')), Indicator(name='EP.2.b', assessment='Yes', metrics=Metric(name='EP.2.b.i', value='0%')), Indicator(name='EP.2.c', assessment='No', metrics=Metric(name='EP.2.c.i', value='86%')), Indicator(name='EP.2.d', assessment='No', metrics=Metric(name='EP.2.d.i', value='317%'))]), Area(name='EP.3', assessment='Partial', indicators=[Indicator(name='EP.3.a', assessment='Yes', metrics=Metric(name='EP.3.a.i', value='2050')), Indicator(name='EP.3.b', assessment='Yes', metrics=''), Indicator(name='EP.3.c', assessment='No', metrics='')]), Area(name='CP.1', assessment='No', indicators=[Indicator(name='CP.1.a', assessment='No', metrics=''), Indicator(name='CP.1.b', assessment='No', metrics='')]), Area(name='CP.2', assessment='Partial', indicators=[Indicator(name='CP.2.a', assessment='Yes', metrics=''), Indicator(name='CP.2.b', assessment='No', metrics=Metric(name='CP.2.b.i', value='33%')), Indicator(name='CP.2.c', assessment='Yes', metrics=Metric(name='CP.2.c.i', value='89.88 US$/tCO2e'))]), Area(name='CP.3', assessment='Partial', indicators=[Indicator(name='CP.3.a', assessment='Yes', metrics=Metric(name='CP.3.a.i', value='2025')), Indicator(name='CP.3.b', assessment='Yes', metrics=Metric(name='CP.3.b.i', value='0.42%')), Indicator(name='CP.3.c', assessment='Not applicable', metrics=Metric(name='CP.3.c.i', value='0.00%')), Indicator(name='CP.3.d', assessment='No', metrics=Metric(name='CP.3.d.i', value='0.08%'))]), Area(name='CP.4', assessment='Partial', indicators=[Indicator(name='CP.4.a', assessment='No', metrics=''), Indicator(name='CP.4.b', assessment='Yes', metrics=Metric(name='CP.4.b.i', value='2.30 MJ/PPP-adjusted GDP')), Indicator(name='CP.4.c', assessment='Yes', metrics=''), Indicator(name='CP.4.d', assessment='No', metrics=Metric(name='CP.4.d.i', value='46%')), Indicator(name='CP.4.e', assessment='Yes', metrics=Metric(name='CP.4.e.i', value='22%'))]), Area(name='CP.5', assessment='Partial', indicators=[Indicator(name='CP.5.a', assessment='Yes', metrics=''), Indicator(name='CP.5.b', assessment='Yes', metrics=''), Indicator(name='CP.5.c', assessment='No', metrics=''), Indicator(name='CP.5.d', assessment='Yes', metrics=''), Indicator(name='CP.5.e', assessment='Exempt', metrics='')]), Area(name='CP.6', assessment='Partial', indicators=[Indicator(name='CP.6.a', assessment='Yes', metrics=Metric(name='CP.6.a.i', value='83%')), Indicator(name='CP.6.b', assessment='No', metrics=''), Indicator(name='CP.6.c', assessment='No', metrics=''), Indicator(name='CP.6.d', assessment='Yes', metrics='')]), Area(name='CF.1', assessment='No', indicators=[Indicator(name='CF.1.a', assessment='No', metrics=Metric(name='CF.1.a.i', value='0.07%')), Indicator(name='CF.1.b', assessment='No', metrics=Metric(name='CF.1.b.i', value='0.13%'))]), Area(name='CF.2', assessment='Exempt', indicators=[Indicator(name='CF.2.a', assessment='Exempt', metrics=''), Indicator(name='CF.2.b', assessment='Exempt', metrics='')]), Area(name='CF.3', assessment='Partial', indicators=[Indicator(name='CF.3.a', assessment='Yes', metrics=''), Indicator(name='CF.3.b', assessment='No', metrics='')]), Area(name='CF.4', assessment='', indicators=[])]), Pillar(name='CP', areas=[Area(name='EP.1', assessment='Partial', indicators=[Indicator(name='EP.1.a', assessment='Yes', metrics=''), Indicator(name='EP.1.b', assessment='No', metrics=''), Indicator(name='EP.1.c', assessment='No', metrics='')]), Area(name='EP.2', assessment='Partial', indicators=[Indicator(name='EP.2.a', assessment='Yes', metrics=Metric(name='EP.2.a.i', value='-30%')), Indicator(name='EP.2.b', assessment='Yes', metrics=Metric(name='EP.2.b.i', value='0%')), Indicator(name='EP.2.c', assessment='No', metrics=Metric(name='EP.2.c.i', value='86%')), Indicator(name='EP.2.d', assessment='No', metrics=Metric(name='EP.2.d.i', value='317%'))]), Area(name='EP.3', assessment='Partial', indicators=[Indicator(name='EP.3.a', assessment='Yes', metrics=Metric(name='EP.3.a.i', value='2050')), Indicator(name='EP.3.b', assessment='Yes', metrics=''), Indicator(name='EP.3.c', assessment='No', metrics='')]), Area(name='CP.1', assessment='No', indicators=[Indicator(name='CP.1.a', assessment='No', metrics=''), Indicator(name='CP.1.b', assessment='No', metrics='')]), Area(name='CP.2', assessment='Partial', indicators=[Indicator(name='CP.2.a', assessment='Yes', metrics=''), Indicator(name='CP.2.b', assessment='No', metrics=Metric(name='CP.2.b.i', value='33%')), Indicator(name='CP.2.c', assessment='Yes', metrics=Metric(name='CP.2.c.i', value='89.88 US$/tCO2e'))]), Area(name='CP.3', assessment='Partial', indicators=[Indicator(name='CP.3.a', assessment='Yes', metrics=Metric(name='CP.3.a.i', value='2025')), Indicator(name='CP.3.b', assessment='Yes', metrics=Metric(name='CP.3.b.i', value='0.42%')), Indicator(name='CP.3.c', assessment='Not applicable', metrics=Metric(name='CP.3.c.i', value='0.00%')), Indicator(name='CP.3.d', assessment='No', metrics=Metric(name='CP.3.d.i', value='0.08%'))]), Area(name='CP.4', assessment='Partial', indicators=[Indicator(name='CP.4.a', assessment='No', metrics=''), Indicator(name='CP.4.b', assessment='Yes', metrics=Metric(name='CP.4.b.i', value='2.30 MJ/PPP-adjusted GDP')), Indicator(name='CP.4.c', assessment='Yes', metrics=''), Indicator(name='CP.4.d', assessment='No', metrics=Metric(name='CP.4.d.i', value='46%')), Indicator(name='CP.4.e', assessment='Yes', metrics=Metric(name='CP.4.e.i', value='22%'))]), Area(name='CP.5', assessment='Partial', indicators=[Indicator(name='CP.5.a', assessment='Yes', metrics=''), Indicator(name='CP.5.b', assessment='Yes', metrics=''), Indicator(name='CP.5.c', assessment='No', metrics=''), Indicator(name='CP.5.d', assessment='Yes', metrics=''), Indicator(name='CP.5.e', assessment='Exempt', metrics='')]), Area(name='CP.6', assessment='Partial', indicators=[Indicator(name='CP.6.a', assessment='Yes', metrics=Metric(name='CP.6.a.i', value='83%')), Indicator(name='CP.6.b', assessment='No', metrics=''), Indicator(name='CP.6.c', assessment='No', metrics=''), Indicator(name='CP.6.d', assessment='Yes', metrics='')]), Area(name='CF.1', assessment='No', indicators=[Indicator(name='CF.1.a', assessment='No', metrics=Metric(name='CF.1.a.i', value='0.07%')), Indicator(name='CF.1.b', assessment='No', metrics=Metric(name='CF.1.b.i', value='0.13%'))]), Area(name='CF.2', assessment='Exempt', indicators=[Indicator(name='CF.2.a', assessment='Exempt', metrics=''), Indicator(name='CF.2.b', assessment='Exempt', metrics='')]), Area(name='CF.3', assessment='Partial', indicators=[Indicator(name='CF.3.a', assessment='Yes', metrics=''), Indicator(name='CF.3.b', assessment='No', metrics='')]), Area(name='CF.4', assessment='', indicators=[])]), Pillar(name='CF', areas=[Area(name='EP.1', assessment='Partial', indicators=[Indicator(name='EP.1.a', assessment='Yes', metrics=''), Indicator(name='EP.1.b', assessment='No', metrics=''), Indicator(name='EP.1.c', assessment='No', metrics='')]), Area(name='EP.2', assessment='Partial', indicators=[Indicator(name='EP.2.a', assessment='Yes', metrics=Metric(name='EP.2.a.i', value='-30%')), Indicator(name='EP.2.b', assessment='Yes', metrics=Metric(name='EP.2.b.i', value='0%')), Indicator(name='EP.2.c', assessment='No', metrics=Metric(name='EP.2.c.i', value='86%')), Indicator(name='EP.2.d', assessment='No', metrics=Metric(name='EP.2.d.i', value='317%'))]), Area(name='EP.3', assessment='Partial', indicators=[Indicator(name='EP.3.a', assessment='Yes', metrics=Metric(name='EP.3.a.i', value='2050')), Indicator(name='EP.3.b', assessment='Yes', metrics=''), Indicator(name='EP.3.c', assessment='No', metrics='')]), Area(name='CP.1', assessment='No', indicators=[Indicator(name='CP.1.a', assessment='No', metrics=''), Indicator(name='CP.1.b', assessment='No', metrics='')]), Area(name='CP.2', assessment='Partial', indicators=[Indicator(name='CP.2.a', assessment='Yes', metrics=''), Indicator(name='CP.2.b', assessment='No', metrics=Metric(name='CP.2.b.i', value='33%')), Indicator(name='CP.2.c', assessment='Yes', metrics=Metric(name='CP.2.c.i', value='89.88 US$/tCO2e'))]), Area(name='CP.3', assessment='Partial', indicators=[Indicator(name='CP.3.a', assessment='Yes', metrics=Metric(name='CP.3.a.i', value='2025')), Indicator(name='CP.3.b', assessment='Yes', metrics=Metric(name='CP.3.b.i', value='0.42%')), Indicator(name='CP.3.c', assessment='Not applicable', metrics=Metric(name='CP.3.c.i', value='0.00%')), Indicator(name='CP.3.d', assessment='No', metrics=Metric(name='CP.3.d.i', value='0.08%'))]), Area(name='CP.4', assessment='Partial', indicators=[Indicator(name='CP.4.a', assessment='No', metrics=''), Indicator(name='CP.4.b', assessment='Yes', metrics=Metric(name='CP.4.b.i', value='2.30 MJ/PPP-adjusted GDP')), Indicator(name='CP.4.c', assessment='Yes', metrics=''), Indicator(name='CP.4.d', assessment='No', metrics=Metric(name='CP.4.d.i', value='46%')), Indicator(name='CP.4.e', assessment='Yes', metrics=Metric(name='CP.4.e.i', value='22%'))]), Area(name='CP.5', assessment='Partial', indicators=[Indicator(name='CP.5.a', assessment='Yes', metrics=''), Indicator(name='CP.5.b', assessment='Yes', metrics=''), Indicator(name='CP.5.c', assessment='No', metrics=''), Indicator(name='CP.5.d', assessment='Yes', metrics=''), Indicator(name='CP.5.e', assessment='Exempt', metrics='')]), Area(name='CP.6', assessment='Partial', indicators=[Indicator(name='CP.6.a', assessment='Yes', metrics=Metric(name='CP.6.a.i', value='83%')), Indicator(name='CP.6.b', assessment='No', metrics=''), Indicator(name='CP.6.c', assessment='No', metrics=''), Indicator(name='CP.6.d', assessment='Yes', metrics='')]), Area(name='CF.1', assessment='No', indicators=[Indicator(name='CF.1.a', assessment='No', metrics=Metric(name='CF.1.a.i', value='0.07%')), Indicator(name='CF.1.b', assessment='No', metrics=Metric(name='CF.1.b.i', value='0.13%'))]), Area(name='CF.2', assessment='Exempt', indicators=[Indicator(name='CF.2.a', assessment='Exempt', metrics=''), Indicator(name='CF.2.b', assessment='Exempt', metrics='')]), Area(name='CF.3', assessment='Partial', indicators=[Indicator(name='CF.3.a', assessment='Yes', metrics=''), Indicator(name='CF.3.b', assessment='No', metrics='')]), Area(name='CF.4', assessment='', indicators=[])])])"
      ]
     },
     "execution_count": 8,
     "metadata": {},
     "output_type": "execute_result"
    }
   ],
   "source": [
    "get_country_data(\"Italy\", 2024)"
   ]
  },
  {
   "cell_type": "markdown",
   "metadata": {},
   "source": [
    "# Testing out Pydantic Models"
   ]
  },
  {
   "cell_type": "code",
   "execution_count": 9,
   "metadata": {},
   "outputs": [],
   "source": [
    "from pydantic import BaseModel, Field\n",
    "from typing import Literal"
   ]
  }
 ],
 "metadata": {
  "kernelspec": {
   "display_name": "base",
   "language": "python",
   "name": "python3"
  },
  "language_info": {
   "codemirror_mode": {
    "name": "ipython",
    "version": 3
   },
   "file_extension": ".py",
   "mimetype": "text/x-python",
   "name": "python",
   "nbconvert_exporter": "python",
   "pygments_lexer": "ipython3",
   "version": "3.11.7"
  }
 },
 "nbformat": 4,
 "nbformat_minor": 2
}
