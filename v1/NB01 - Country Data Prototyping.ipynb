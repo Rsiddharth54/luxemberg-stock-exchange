{
 "cells": [
  {
   "cell_type": "markdown",
   "metadata": {},
   "source": [
    "# Read the data"
   ]
  },
  {
   "cell_type": "code",
   "execution_count": 3,
   "metadata": {},
   "outputs": [],
   "source": [
    "import os\n",
    "import pandas as pd\n",
    "\n",
    "from fastapi import FastAPI\n",
    "from typing import List\n",
    "from models import CountryData"
   ]
  },
  {
   "cell_type": "code",
   "execution_count": 5,
   "metadata": {},
   "outputs": [
    {
     "name": "stderr",
     "output_type": "stream",
     "text": [
      "/var/folders/kv/l9vcg1gs7xb1tfhh37wfc4_w0000gn/T/ipykernel_31605/3951065428.py:5: UserWarning: Parsing dates in %d/%m/%Y format when dayfirst=False (the default) was specified. Pass `dayfirst=True` or specify a format to silence this warning.\n",
      "  df_assessments['Assessment date'] = pd.to_datetime(df_assessments['Assessment date'])\n"
     ]
    }
   ],
   "source": [
    "filepath = \"../data/TPI ASCOR data - 13012025/ASCOR_assessments_results.xlsx\" # Specify the correct path to the file\n",
    "df_assessments = pd.read_excel(filepath)\n",
    "\n",
    "# Convert the date columns to datetime type so we can filter by year later\n",
    "df_assessments['Assessment date'] = pd.to_datetime(df_assessments['Assessment date'])\n",
    "df_assessments['Publication date'] = pd.to_datetime(df_assessments['Publication date'])"
   ]
  },
  {
   "cell_type": "markdown",
   "metadata": {},
   "source": [
    "# Define the function"
   ]
  },
  {
   "cell_type": "code",
   "execution_count": 20,
   "metadata": {},
   "outputs": [],
   "source": [
    "def get_country_data(country: str, assessment_year: int):\n",
    "    data = df_assessments[(df_assessments[\"Country\"] == country) & (df_assessments[\"Assessment date\"].dt.year == assessment_year)]\n",
    "\n",
    "    #filter for the area columns\n",
    "    area_columns = [col for col in data.columns if col.startswith(\"area\")]\n",
    "    data = data[area_columns]\n",
    "    data['country'] = country\n",
    "    data['assessment_year'] = assessment_year\n",
    "\n",
    "    #JSON does not allow for NaN or NULL\n",
    "    data = data.fillna(\"\")\n",
    "\n",
    "    #rename columns\n",
    "    remap_area_column_names = {\n",
    "        col: col.replace('area ', '').replace(\".\", \"_\") for col in area_columns\n",
    "    }\n",
    "\n",
    "    data = data.rename(columns=remap_area_column_names)\n",
    "\n",
    "    #Grab just the first row and return it as a dictionary.\n",
    "    #Even though there should only be one row anyway, we specify it because we want to convert to dictionary\n",
    "    output_dict = data.iloc[0].to_dict()\n",
    "\n",
    "    output = CountryData(**output_dict)\n",
    "\n",
    "    return output"
   ]
  },
  {
   "cell_type": "markdown",
   "metadata": {},
   "source": [
    "# Test how the function behaves"
   ]
  },
  {
   "cell_type": "code",
   "execution_count": 21,
   "metadata": {},
   "outputs": [
    {
     "data": {
      "text/plain": [
       "CountryData(country='Italy', assessment_year=2024, EP_1='Partial', EP_2='Partial', EP_3='Partial', CP_1='No', CP_2='Partial', CP_3='Partial', CP_4='Partial', CP_5='Partial', CP_6='Partial', CF_1='No', CF_2='Exempt', CF_3='Partial', CF_4='')"
      ]
     },
     "execution_count": 21,
     "metadata": {},
     "output_type": "execute_result"
    }
   ],
   "source": [
    "get_country_data(\"Italy\", 2024)"
   ]
  },
  {
   "cell_type": "markdown",
   "metadata": {},
   "source": [
    "# Testing out Pydantic Models"
   ]
  },
  {
   "cell_type": "code",
   "execution_count": null,
   "metadata": {},
   "outputs": [],
   "source": [
    "from pydantic import BaseModel"
   ]
  }
 ],
 "metadata": {
  "kernelspec": {
   "display_name": "base",
   "language": "python",
   "name": "python3"
  },
  "language_info": {
   "codemirror_mode": {
    "name": "ipython",
    "version": 3
   },
   "file_extension": ".py",
   "mimetype": "text/x-python",
   "name": "python",
   "nbconvert_exporter": "python",
   "pygments_lexer": "ipython3",
   "version": "3.11.7"
  }
 },
 "nbformat": 4,
 "nbformat_minor": 2
}
