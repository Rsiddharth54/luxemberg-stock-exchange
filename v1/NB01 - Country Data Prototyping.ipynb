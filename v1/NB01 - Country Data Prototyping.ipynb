{
 "cells": [
  {
   "cell_type": "markdown",
   "metadata": {},
   "source": [
    "# Read the data"
   ]
  },
  {
   "cell_type": "code",
   "execution_count": 90,
   "metadata": {},
   "outputs": [],
   "source": [
    "import os\n",
    "import pandas as pd\n",
    "\n",
    "from fastapi import FastAPI\n",
    "from typing import List\n",
    "from models import CountryData\n",
    "import re"
   ]
  },
  {
   "cell_type": "code",
   "execution_count": 27,
   "metadata": {},
   "outputs": [
    {
     "name": "stderr",
     "output_type": "stream",
     "text": [
      "/var/folders/kv/l9vcg1gs7xb1tfhh37wfc4_w0000gn/T/ipykernel_31605/3951065428.py:5: UserWarning: Parsing dates in %d/%m/%Y format when dayfirst=False (the default) was specified. Pass `dayfirst=True` or specify a format to silence this warning.\n",
      "  df_assessments['Assessment date'] = pd.to_datetime(df_assessments['Assessment date'])\n"
     ]
    }
   ],
   "source": [
    "filepath = \"../data/TPI ASCOR data - 13012025/ASCOR_assessments_results.xlsx\" # Specify the correct path to the file\n",
    "df_assessments = pd.read_excel(filepath)\n",
    "\n",
    "# Convert the date columns to datetime type so we can filter by year later\n",
    "df_assessments['Assessment date'] = pd.to_datetime(df_assessments['Assessment date'])\n",
    "df_assessments['Publication date'] = pd.to_datetime(df_assessments['Publication date'])"
   ]
  },
  {
   "cell_type": "markdown",
   "metadata": {},
   "source": [
    "# Define the function"
   ]
  },
  {
   "cell_type": "code",
   "execution_count": 95,
   "metadata": {},
   "outputs": [
    {
     "data": {
      "text/plain": [
       "EP.1                         Partial\n",
       "EP.1.a                           Yes\n",
       "EP.1.b                            No\n",
       "EP.1.c                            No\n",
       "EP.2                         Partial\n",
       "                      ...           \n",
       "CF.4                             NaN\n",
       "CF.4.i       2.24 MW/US$ billion GDP\n",
       "CF.4.ii     20.56 MW/US$ billion GDP\n",
       "CF.4.iii     0.00 MW/US$ billion GDP\n",
       "CF.4.iv      0.12 MW/US$ billion GDP\n",
       "Name: 55, Length: 74, dtype: object"
      ]
     },
     "execution_count": 95,
     "metadata": {},
     "output_type": "execute_result"
    }
   ],
   "source": [
    "country = 'Italy'\n",
    "assessment_year = 2024\n",
    "\n",
    "data = df_assessments[(df_assessments[\"Country\"] == country) & (df_assessments[\"Assessment date\"].dt.year == assessment_year)]\n",
    "data = data[[col for col in data.columns if col.startswith((\"area\", \"indicator\", \"metric\"))]]\n",
    "\n",
    "remap_column_names = {col: re.sub(\".*?\\s\", \"\", col) for col in data.columns}\n",
    "data = data.rename(columns=remap_column_names)\n",
    "\n",
    "data.iloc[0]"
   ]
  },
  {
   "cell_type": "code",
   "execution_count": null,
   "metadata": {},
   "outputs": [],
   "source": [
    "\n",
    "    #get areas. an EP is composed of dictionaries of EP1, EP2, EP3\n",
    "    EP = {EP_i for EP_i in pillars_i_dict if EP_i.startswith(\"EP\")}\n",
    "    CP = {CP_i for CP_i in pillars_i_dict if CP_i.startswith(\"CP\")}\n",
    "    CF = {CF_i for CF_i in pillars_i_dict if CF_i.startswith(\"CF\")}"
   ]
  },
  {
   "cell_type": "code",
   "execution_count": 28,
   "metadata": {},
   "outputs": [],
   "source": [
    "def get_country_data(country: str, assessment_year: int):\n",
    "    data = df_assessments[(df_assessments[\"Country\"] == country) & (df_assessments[\"Assessment date\"].dt.year == assessment_year)]\n",
    "    data = data[[col for col in data.columns if col.startswith((\"area\", \"indicator\", \"metric\"))]]\n",
    "\n",
    "    #rename columns so they start with the pillars\n",
    "    remap_column_names = {col: re.sub(\".*?\\s\", \"\", col) for col in data.columns}\n",
    "    data = data.rename(columns=remap_column_names)\n",
    "\n",
    "    #get flat Pandas series of country data\n",
    "    data = data.iloc[0]\n",
    "    data = data.fillna(\"\")\n",
    "\n",
    "\n",
    "    #get pillar\n",
    "    pillars = [{'name': pillar, 'areas': \"notdoneyet\"} for pillar in ['EP', 'CP', 'CF']]\n",
    "\n",
    "\n",
    "    area_columns = [col for col in data.index if col.startswith(\"area\")]\n",
    "    data = data[area_columns]\n",
    "    data['country'] = country\n",
    "    data['assessment_year'] = assessment_year\n",
    "\n",
    "    output_dict = {'pillars': {pillar for pillar in pillars}}\n",
    "\n",
    "    output = CountryData(**output_dict)\n",
    "\n",
    "    return output"
   ]
  },
  {
   "cell_type": "code",
   "execution_count": 68,
   "metadata": {},
   "outputs": [],
   "source": [
    "unique_values = [df_assessments[col].unique().tolist() for col in df_assessments.columns if col.startswith(\"country\")]"
   ]
  },
  {
   "cell_type": "code",
   "execution_count": 70,
   "metadata": {},
   "outputs": [],
   "source": [
    "unique_values = [df_assessments['Country'].unique().tolist()]"
   ]
  },
  {
   "cell_type": "code",
   "execution_count": 81,
   "metadata": {},
   "outputs": [],
   "source": [
    "countries = list((set(sum(unique_values, []))))"
   ]
  },
  {
   "cell_type": "markdown",
   "metadata": {},
   "source": [
    "# Test how the function behaves"
   ]
  },
  {
   "cell_type": "code",
   "execution_count": 21,
   "metadata": {},
   "outputs": [
    {
     "data": {
      "text/plain": [
       "CountryData(country='Italy', assessment_year=2024, EP_1='Partial', EP_2='Partial', EP_3='Partial', CP_1='No', CP_2='Partial', CP_3='Partial', CP_4='Partial', CP_5='Partial', CP_6='Partial', CF_1='No', CF_2='Exempt', CF_3='Partial', CF_4='')"
      ]
     },
     "execution_count": 21,
     "metadata": {},
     "output_type": "execute_result"
    }
   ],
   "source": [
    "get_country_data(\"Italy\", 2024)"
   ]
  },
  {
   "cell_type": "markdown",
   "metadata": {},
   "source": [
    "# Testing out Pydantic Models"
   ]
  },
  {
   "cell_type": "code",
   "execution_count": 73,
   "metadata": {},
   "outputs": [],
   "source": [
    "from pydantic import BaseModel, Field\n",
    "from typing import Literal"
   ]
  },
  {
   "cell_type": "code",
   "execution_count": null,
   "metadata": {},
   "outputs": [],
   "source": []
  }
 ],
 "metadata": {
  "kernelspec": {
   "display_name": "base",
   "language": "python",
   "name": "python3"
  },
  "language_info": {
   "codemirror_mode": {
    "name": "ipython",
    "version": 3
   },
   "file_extension": ".py",
   "mimetype": "text/x-python",
   "name": "python",
   "nbconvert_exporter": "python",
   "pygments_lexer": "ipython3",
   "version": "3.11.7"
  }
 },
 "nbformat": 4,
 "nbformat_minor": 2
}
